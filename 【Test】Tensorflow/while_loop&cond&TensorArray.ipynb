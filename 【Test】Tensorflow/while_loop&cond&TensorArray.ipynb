{
 "cells": [
  {
   "cell_type": "code",
   "execution_count": 4,
   "metadata": {
    "collapsed": true
   },
   "outputs": [],
   "source": [
    "# ========================== Tensorflow if else ===============================\n",
    "# source\n",
    "# def f1_(): return state_index\n",
    "# def f2_(): return current_index-101\n",
    "# state_index = tf.cond(tf.equal(tf.cast(state_index/100, tf.int32), tf.cast(current_index/100, tf.int32)), f1_, f2_)"
   ]
  },
  {
   "cell_type": "code",
   "execution_count": 5,
   "metadata": {
    "collapsed": true
   },
   "outputs": [],
   "source": [
    "# ========================== Tensorflow loop ===============================\n",
    "# output_history_saver = tf.TensorArray(size=0, dtype=tf.float32, dynamic_size=True, clear_after_read=False) \n",
    "# def loop_condition():\n",
    "#     return False\n",
    "# def loop_body():\n",
    "#     return None\n",
    "# loop_result = tf.while_loop(cond=loop_condition, body=loop_body,loop_vars=[])"
   ]
  }
 ],
 "metadata": {
  "kernelspec": {
   "display_name": "Python 3",
   "language": "python",
   "name": "python3"
  },
  "language_info": {
   "codemirror_mode": {
    "name": "ipython",
    "version": 3
   },
   "file_extension": ".py",
   "mimetype": "text/x-python",
   "name": "python",
   "nbconvert_exporter": "python",
   "pygments_lexer": "ipython3",
   "version": "3.6.3"
  }
 },
 "nbformat": 4,
 "nbformat_minor": 2
}
