{
 "cells": [
  {
   "cell_type": "code",
   "execution_count": 1,
   "metadata": {
    "collapsed": true
   },
   "outputs": [],
   "source": [
    "import torch\n",
    "import numpy as np"
   ]
  },
  {
   "cell_type": "code",
   "execution_count": 51,
   "metadata": {
    "collapsed": true
   },
   "outputs": [],
   "source": [
    "data = [[0,1,2,3],]\n",
    "#         [0,2,1,3],\n",
    "#         [0,4,1,2],\n",
    "#         [0,2,1,4]]"
   ]
  },
  {
   "cell_type": "code",
   "execution_count": 70,
   "metadata": {},
   "outputs": [],
   "source": [
    "class SimpleLSTM(torch.nn.Module):\n",
    "    \n",
    "    def __init__(self, vacab_size):\n",
    "        super(SimpleLSTM, self).__init__()\n",
    "        self.embed = torch.nn.Embedding(vacab_size,3)\n",
    "        self.gru = torch.nn.GRU(3,5,3, batch_first=True)\n",
    "        self.fc = torch.nn.Linear(4, 5)\n",
    "    \n",
    "    def forward(self, x):\n",
    "        vector = self.embed(x)\n",
    "        \n",
    "        out, _ = self.gru(vector)\n",
    "        flatten = self.fc(out)\n",
    "        return out"
   ]
  },
  {
   "cell_type": "code",
   "execution_count": 71,
   "metadata": {},
   "outputs": [],
   "source": [
    "tensor_data = torch.Tensor(data)\n",
    "long_data = tensor_data.type(torch.LongTensor)"
   ]
  },
  {
   "cell_type": "code",
   "execution_count": 72,
   "metadata": {},
   "outputs": [],
   "source": [
    "model = SimpleLSTM(5)"
   ]
  },
  {
   "cell_type": "code",
   "execution_count": 78,
   "metadata": {},
   "outputs": [],
   "source": [
    "criterion = torch.nn.NLLLoss()\n",
    "optimizer = torch.optim.Adadelta(model.parameters())"
   ]
  },
  {
   "cell_type": "code",
   "execution_count": null,
   "metadata": {},
   "outputs": [
    {
     "name": "stdout",
     "output_type": "stream",
     "text": [
      "tensor(-2.0000, grad_fn=<ThAddBackward>)\r"
     ]
    }
   ],
   "source": [
    "for epoch in range(1000):\n",
    "    out = model(long_data)\n",
    "    loss = 0\n",
    "    for item in range(out.size(1)):\n",
    "\n",
    "        loss = criterion(out[:,item,:], long_data[:,item])\n",
    "#         print(out[:,item,:], long_data[item,:])\n",
    "        loss += loss\n",
    "    optimizer.zero_grad()\n",
    "    loss.backward()\n",
    "    optimizer.step()\n",
    "    print(loss,end=\"\\r\",flush=True)\n",
    "\n",
    "with torch.no_grad():\n",
    "    out = model(long_data)\n",
    "    _, predicted = torch.max(out.data, 2)\n",
    "    print(predicted)\n",
    "\n",
    "print(long_data,\"\\n\",out)"
   ]
  },
  {
   "cell_type": "code",
   "execution_count": 77,
   "metadata": {},
   "outputs": [
    {
     "data": {
      "text/plain": [
       "tensor([[-0.9880, -0.9863, -0.9830,  0.9940, -0.9921]])"
      ]
     },
     "execution_count": 77,
     "metadata": {},
     "output_type": "execute_result"
    }
   ],
   "source": [
    "out[:,1,:]"
   ]
  },
  {
   "cell_type": "code",
   "execution_count": null,
   "metadata": {
    "collapsed": true
   },
   "outputs": [],
   "source": []
  }
 ],
 "metadata": {
  "kernelspec": {
   "display_name": "Python 3",
   "language": "python",
   "name": "python3"
  },
  "language_info": {
   "codemirror_mode": {
    "name": "ipython",
    "version": 3
   },
   "file_extension": ".py",
   "mimetype": "text/x-python",
   "name": "python",
   "nbconvert_exporter": "python",
   "pygments_lexer": "ipython3",
   "version": "3.6.3"
  }
 },
 "nbformat": 4,
 "nbformat_minor": 2
}
