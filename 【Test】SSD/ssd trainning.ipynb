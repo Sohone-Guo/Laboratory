{
 "cells": [
  {
   "cell_type": "code",
   "execution_count": 1,
   "metadata": {},
   "outputs": [
    {
     "name": "stderr",
     "output_type": "stream",
     "text": [
      "Using TensorFlow backend.\n"
     ]
    }
   ],
   "source": [
    "\"\"\"\n",
    "This part is for library\n",
    "\"\"\"\n",
    "\n",
    "import numpy as np\n",
    "from SSD.SSD_layer import *\n",
    "from SSD.SSD_model import *"
   ]
  },
  {
   "cell_type": "code",
   "execution_count": 2,
   "metadata": {},
   "outputs": [
    {
     "name": "stdout",
     "output_type": "stream",
     "text": [
      "Tensor(\"conv4_3_norm_mbox_conf_flat/Reshape:0\", shape=(?, ?), dtype=float32)\n"
     ]
    },
    {
     "name": "stderr",
     "output_type": "stream",
     "text": [
      "/Users/sohone/Desktop/Project/SSD/SSD/SSD_model.py:179: UserWarning: Update your `Conv2D` call to the Keras 2 API: `Conv2D(kernel_size=[3, 3], filters=256, activation=\"relu\", padding=\"valid\", name=\"conv7_2\", strides=(2, 2))`\n",
      "  name=\"conv7_2\")(net[\"conv7_2\"])\n",
      "/Users/sohone/Desktop/Project/SSD/SSD/SSD_model.py:188: UserWarning: Update your `Conv2D` call to the Keras 2 API: `Conv2D(kernel_size=[1, 1], filters=128, activation=\"relu\", padding=\"same\", name=\"conv8_1\", strides=(2, 2))`\n",
      "  name=\"conv8_1\")(net[\"conv7_2\"])\n",
      "/Users/sohone/Desktop/Project/SSD/SSD/SSD_model.py:195: UserWarning: Update your `Conv2D` call to the Keras 2 API: `Conv2D(kernel_size=[3, 3], filters=256, activation=\"relu\", padding=\"same\", name=\"conv8_2\", strides=(2, 2))`\n",
      "  name=\"conv8_2\")(net[\"conv8_1\"])\n"
     ]
    }
   ],
   "source": [
    "SSD300([320,320,3],21)"
   ]
  },
  {
   "cell_type": "code",
   "execution_count": 2,
   "metadata": {},
   "outputs": [
    {
     "data": {
      "text/plain": [
       "<SSD.SSD_layer.PriorBox at 0x1a1de33c50>"
      ]
     },
     "execution_count": 2,
     "metadata": {},
     "output_type": "execute_result"
    }
   ],
   "source": [
    "PriorBox([320,320],30,aspect_ratios=[2],variances=[0.1,0.1,0.2])"
   ]
  },
  {
   "cell_type": "code",
   "execution_count": null,
   "metadata": {
    "collapsed": true
   },
   "outputs": [],
   "source": []
  }
 ],
 "metadata": {
  "kernelspec": {
   "display_name": "Python 3",
   "language": "python",
   "name": "python3"
  },
  "language_info": {
   "codemirror_mode": {
    "name": "ipython",
    "version": 3
   },
   "file_extension": ".py",
   "mimetype": "text/x-python",
   "name": "python",
   "nbconvert_exporter": "python",
   "pygments_lexer": "ipython3",
   "version": "3.6.4"
  }
 },
 "nbformat": 4,
 "nbformat_minor": 2
}
